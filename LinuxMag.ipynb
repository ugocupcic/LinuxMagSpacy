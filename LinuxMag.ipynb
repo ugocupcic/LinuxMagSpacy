{
  "nbformat": 4,
  "nbformat_minor": 0,
  "metadata": {
    "colab": {
      "name": "Test.ipynb",
      "version": "0.3.2",
      "provenance": [],
      "collapsed_sections": []
    },
    "kernelspec": {
      "name": "python2",
      "display_name": "Python 2"
    },
    "accelerator": "GPU"
  },
  "cells": [
    {
      "cell_type": "markdown",
      "metadata": {
        "id": "view-in-github",
        "colab_type": "text"
      },
      "source": [
        "[View in Colaboratory](https://colab.research.google.com/github/ugocupcic/LinuxMagSpacy/blob/master/LinuxMag.ipynb)"
      ]
    },
    {
      "metadata": {
        "id": "uDMNGj81eiaR",
        "colab_type": "code",
        "colab": {}
      },
      "cell_type": "code",
      "source": [
        "!pip install spacy\n",
        "!python -m spacy download fr_core_news_md"
      ],
      "execution_count": 0,
      "outputs": []
    },
    {
      "metadata": {
        "id": "22g96wDxrb1j",
        "colab_type": "text"
      },
      "cell_type": "markdown",
      "source": [
        "# Extractions de différentes informations\n",
        "\n",
        "Voici les tag de *part of speech* :\n"
      ]
    },
    {
      "metadata": {
        "id": "iSHCfS_lf6PN",
        "colab_type": "code",
        "colab": {
          "base_uri": "https://localhost:8080/",
          "height": 34
        },
        "outputId": "8c514013-504f-4fb4-8c85-65f4502dbb5f"
      },
      "cell_type": "code",
      "source": [
        "import spacy\n",
        "nlp = spacy.load(\"fr_core_news_md\")\n",
        "\n",
        "doc = nlp(u\"Bonjour le monde de Linux Mag\")\n",
        "print([(word.text, word.pos_) for word in doc])"
      ],
      "execution_count": 2,
      "outputs": [
        {
          "output_type": "stream",
          "text": [
            "[(u'Bonjour', u'NOUN'), (u'le', u'DET'), (u'monde', u'NOUN'), (u'de', u'ADP'), (u'Linux', u'PROPN'), (u'Mag', u'PROPN')]\n"
          ],
          "name": "stdout"
        }
      ]
    },
    {
      "metadata": {
        "id": "VS_F7CpqrwY7",
        "colab_type": "text"
      },
      "cell_type": "markdown",
      "source": [
        "Et maintenant, regardons les *Lemma*"
      ]
    },
    {
      "metadata": {
        "id": "wsbIjQuOhP1_",
        "colab_type": "code",
        "colab": {
          "base_uri": "https://localhost:8080/",
          "height": 34
        },
        "outputId": "9e55b352-2e7d-4f4f-e29a-b7449c54c782"
      },
      "cell_type": "code",
      "source": [
        "Doc = nlp(u\"Nous adorons ce magazine qui est très intéressant.\")\n",
        "print(\" \".join([word.lemma_ + \" \" for  word in doc]))"
      ],
      "execution_count": 3,
      "outputs": [
        {
          "output_type": "stream",
          "text": [
            "Bonjour  le  monder  de  Linux  Mag \n"
          ],
          "name": "stdout"
        }
      ]
    },
    {
      "metadata": {
        "id": "VglUDO2yr5OE",
        "colab_type": "text"
      },
      "cell_type": "markdown",
      "source": [
        "Nous pouvons aussi identifier des groupes de mots qui représente un seul concept: les *noun chunks*."
      ]
    },
    {
      "metadata": {
        "id": "wqtn7tBXiqEL",
        "colab_type": "code",
        "colab": {
          "base_uri": "https://localhost:8080/",
          "height": 34
        },
        "outputId": "30f0c089-7600-4b47-f406-f560244200d6"
      },
      "cell_type": "code",
      "source": [
        "doc = nlp(u\"Nous allons parler d'intelligence artificielle.\")\n",
        "\n",
        "for noun_chunk in doc.noun_chunks:\n",
        "    if \" \" in noun_chunk.text:\n",
        "        print noun_chunk.text"
      ],
      "execution_count": 4,
      "outputs": [
        {
          "output_type": "stream",
          "text": [
            "d'intelligence artificielle\n"
          ],
          "name": "stdout"
        }
      ]
    },
    {
      "metadata": {
        "id": "psuBBbAGsJ44",
        "colab_type": "text"
      },
      "cell_type": "markdown",
      "source": [
        "# Travail sur la similarité\n",
        "\n",
        "## Distance entre des mots\n",
        "\n",
        "Etudions la similarité de ces quelques mots:"
      ]
    },
    {
      "metadata": {
        "id": "s7FPy384i3Oe",
        "colab_type": "code",
        "colab": {
          "base_uri": "https://localhost:8080/",
          "height": 68
        },
        "outputId": "4d45c6ba-9f5d-43d2-d12e-a3b9a4ef7030"
      },
      "cell_type": "code",
      "source": [
        "fraise = nlp(u\"fraise\")\n",
        "framboise = nlp(u\"framboise\")\n",
        "journal = nlp(u\"journal\")\n",
        "\n",
        "print \"similarité fraise-framboise: \" + str(fraise.similarity(framboise))\n",
        "print \"similarité fraise-journal: \" + str(fraise.similarity(journal))\n",
        "print \"similarité framboise-journal: \" + str(framboise.similarity(journal))"
      ],
      "execution_count": 5,
      "outputs": [
        {
          "output_type": "stream",
          "text": [
            "similarité fraise-framboise: 1.0000000315623996\n",
            "similarité fraise-journal: -0.07691960231022113\n",
            "similarité framboise-journal: -0.07691960231022113\n"
          ],
          "name": "stdout"
        }
      ]
    },
    {
      "metadata": {
        "id": "055gCkQqsXnb",
        "colab_type": "text"
      },
      "cell_type": "markdown",
      "source": [
        "## Distance entre des phrases\n",
        "\n",
        "La mesure de similarité s'applique également à des phrases"
      ]
    },
    {
      "metadata": {
        "id": "sQvx6ja-jOPh",
        "colab_type": "code",
        "colab": {
          "base_uri": "https://localhost:8080/",
          "height": 51
        },
        "outputId": "925558b2-0865-43e9-da79-a40912d31975"
      },
      "cell_type": "code",
      "source": [
        "\n",
        "phrase_1 = nlp(u\"Ce journal est très intéressant.\")\n",
        "phrase_2 = nlp(u\"Ce magazine est vraiment passionnant.\")\n",
        "phrase_3 = nlp(u\"Je bois un thé en écrivant mon article.\")\n",
        "\n",
        "sim_1_2 = phrase_1.similarity(phrase_2)\n",
        "sim_1_3 = phrase_1.similarity(phrase_3)\n",
        "print \"similarité entre les deux premières phrases: \" + str(sim_1_2)\n",
        "print \"similarité entre la première et la dernière phrases: \" + str(sim_1_3)\n"
      ],
      "execution_count": 6,
      "outputs": [
        {
          "output_type": "stream",
          "text": [
            "similarité entre les deux premières phrases: 0.8731641705836984\n",
            "similarité entre la première et la dernière phrases: 0.6476781686527907\n"
          ],
          "name": "stdout"
        }
      ]
    },
    {
      "metadata": {
        "id": "Zjo3fYoosidz",
        "colab_type": "text"
      },
      "cell_type": "markdown",
      "source": [
        "Mais elle présente des limitations:"
      ]
    },
    {
      "metadata": {
        "id": "2Fqdj6OeqN79",
        "colab_type": "code",
        "colab": {
          "base_uri": "https://localhost:8080/",
          "height": 51
        },
        "outputId": "35465f60-7832-4368-f723-22dba40578c8"
      },
      "cell_type": "code",
      "source": [
        "\n",
        "phrase_1 = nlp(u\"Ce journal est très intéressant.\")\n",
        "phrase_2 = nlp(u\"Je trouve cette revue passionante.\")\n",
        "phrase_3 = nlp(u\"Ce thé est vraiment délicieux.\")\n",
        "\n",
        "sim_1_2 = phrase_1.similarity(phrase_2)\n",
        "sim_1_3 = phrase_1.similarity(phrase_3)\n",
        "print \"similarité entre les deux premières phrases: \" + str(sim_1_2)\n",
        "print \"similarité entre la première et la dernière phrases: \" + str(sim_1_3)\n"
      ],
      "execution_count": 7,
      "outputs": [
        {
          "output_type": "stream",
          "text": [
            "similarité entre les deux premières phrases: 0.6727251318633605\n",
            "similarité entre la première et la dernière phrases: 0.8187913427933178\n"
          ],
          "name": "stdout"
        }
      ]
    },
    {
      "metadata": {
        "id": "ijuaOh2XsuMO",
        "colab_type": "text"
      },
      "cell_type": "markdown",
      "source": [
        "Simplifions nos phrases et recalculons des similarités:"
      ]
    },
    {
      "metadata": {
        "id": "8BSJPRrowZ0z",
        "colab_type": "code",
        "colab": {
          "base_uri": "https://localhost:8080/",
          "height": 153
        },
        "outputId": "c01dbf21-2d3e-4acd-fdeb-18ac272f2e95"
      },
      "cell_type": "code",
      "source": [
        "def simplifier(sentence):\n",
        "    sentence_as_NLP = nlp(sentence)\n",
        "    simplified_sentence = \"\"\n",
        "    for word in sentence_as_NLP:\n",
        "        if word.pos_ in [\"PROPN\", \"NOUN\", \"VERB\", \"ADJ\"]:\n",
        "            simplified_sentence += word.lemma_ + \" \"\n",
        "            \n",
        "    print (\"Phrase complete: \\\"\" + sentence + \"\\\" => simplication: \\\"\" + simplified_sentence + \"\\\"\")\n",
        "    return simplified_sentence\n",
        "\n",
        "def similarity(sentence1, sentence2):\n",
        "    return nlp(sentence1).similarity(nlp(sentence2))\n",
        "\n",
        "sentence1 = u\"Ce thé est vraiment délicieux\"\n",
        "sentence2 = u\"Je trouve cette revue passionante\"\n",
        "sentence3 = u\"Ce thé est un délice.\"\n",
        "\n",
        "print \"----\"\n",
        "print \"Similarité:\" + str(similarity(simplifier(sentence1), simplifier(sentence2)))\n",
        "\n",
        "print \"----\"\n",
        "print \"Similarité:\" + str(similarity(simplifier(sentence1), simplifier(sentence3)))"
      ],
      "execution_count": 8,
      "outputs": [
        {
          "output_type": "stream",
          "text": [
            "----\n",
            "Phrase complete: \"Ce thé est vraiment délicieux\" => simplication: \"thé délicieux \"\n",
            "Phrase complete: \"Je trouve cette revue passionante\" => simplication: \"trouver revu passionante \"\n",
            "Similarité:0.047787801947603605\n",
            "----\n",
            "Phrase complete: \"Ce thé est vraiment délicieux\" => simplication: \"thé délicieux \"\n",
            "Phrase complete: \"Ce thé est un délice.\" => simplication: \"thé délice \"\n",
            "Similarité:1.0000000477387012\n"
          ],
          "name": "stdout"
        }
      ]
    },
    {
      "metadata": {
        "id": "N8k3kQlrs870",
        "colab_type": "text"
      },
      "cell_type": "markdown",
      "source": [
        "Nous avons toujours des limitations:"
      ]
    },
    {
      "metadata": {
        "id": "ucvhZXI-zCBU",
        "colab_type": "code",
        "colab": {
          "base_uri": "https://localhost:8080/",
          "height": 68
        },
        "outputId": "c4ab1d5a-6cee-4432-a1b8-3bb3b774f237"
      },
      "cell_type": "code",
      "source": [
        "\n",
        "print \"Similarité:\" + str(similarity(simplifier(u\"J'aime le thé.\"), simplifier(u\"Je n'aime pas le thé\")))\n"
      ],
      "execution_count": 9,
      "outputs": [
        {
          "output_type": "stream",
          "text": [
            "Phrase complete: \"J'aime le thé.\" => simplication: \"aimer thé \"\n",
            "Phrase complete: \"Je n'aime pas le thé\" => simplication: \"aimer thé \"\n",
            "Similarité:1.0\n"
          ],
          "name": "stdout"
        }
      ]
    }
  ]
}